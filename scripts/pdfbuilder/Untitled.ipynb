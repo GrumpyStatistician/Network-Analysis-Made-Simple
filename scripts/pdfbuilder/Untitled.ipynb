{
 "cells": [
  {
   "cell_type": "code",
   "execution_count": null,
   "metadata": {},
   "outputs": [],
   "source": [
    "import nbformat\n",
    "from nbconvert import MarkdownExporter, PDFExporter\n",
    "from nbconvert.preprocessors import ExecutePreprocessor\n",
    "from pyprojroot import here"
   ]
  },
  {
   "cell_type": "code",
   "execution_count": null,
   "metadata": {},
   "outputs": [],
   "source": [
    "import yaml\n",
    "from pyprojroot import here\n",
    "\n",
    "\n",
    "def read_mkdocs():\n",
    "    with open(here() / \"mkdocs.yml\", \"r+\") as f:\n",
    "        f = \"\".join(l for l in f.readlines())\n",
    "        mkdocs_config = yaml.safe_load(f)\n",
    "    return mkdocs_config\n",
    "\n",
    "\n",
    "mkdocs_config = read_mkdocs()"
   ]
  },
  {
   "cell_type": "code",
   "execution_count": null,
   "metadata": {},
   "outputs": [],
   "source": [
    "nav = mkdocs_config[\"nav\"]\n",
    "docroot = here() / \"docs\"\n"
   ]
  },
  {
   "cell_type": "code",
   "execution_count": null,
   "metadata": {},
   "outputs": [],
   "source": [
    "# The goal here is to flatten the tree structure into a list of 2-tuples,\n",
    "# where the title is the first element and the filename is the second element.\n",
    "accumulator = []\n",
    "\n",
    "def parse_navigation(nav, accumulator):\n",
    "    \"\"\"\n",
    "    Collect all .ipynb files to be parsed\n",
    "    into a list of 2-tuples.\n",
    "    \"\"\"\n",
    "    for item in nav:\n",
    "        if isinstance(item, dict):\n",
    "            for k, v in item.items():\n",
    "                if isinstance(v, list):\n",
    "                    parse_navigation(v, accumulator)\n",
    "                if isinstance(v, str):\n",
    "                    accumulator.append((k, v))\n",
    "            \n",
    "    return accumulator\n",
    "    \n",
    "accumulated = parse_navigation(nav, accumulator)\n",
    "accumulated = accumulated[2:]\n",
    "accumulated"
   ]
  },
  {
   "cell_type": "code",
   "execution_count": null,
   "metadata": {},
   "outputs": [],
   "source": [
    "def read_markdown(fpath):\n",
    "    with open(fpath, \"r+\") as f:\n",
    "        md = f.read()\n",
    "    return md"
   ]
  },
  {
   "cell_type": "code",
   "execution_count": null,
   "metadata": {},
   "outputs": [],
   "source": [
    "read_markdown(here() / \"docs/index.md\")"
   ]
  },
  {
   "cell_type": "code",
   "execution_count": null,
   "metadata": {},
   "outputs": [],
   "source": [
    "def read_notebook(fpath):\n",
    "    with open(fpath, \"r+\") as f:\n",
    "        nb = nbformat.reads(f.read(), as_version=4)\n",
    "    return nb"
   ]
  },
  {
   "cell_type": "code",
   "execution_count": null,
   "metadata": {},
   "outputs": [],
   "source": [
    "nb = read_notebook(here() / \"docs/practical/io.ipynb\")\n",
    "# nb[\"cells\"]"
   ]
  },
  {
   "cell_type": "code",
   "execution_count": null,
   "metadata": {},
   "outputs": [],
   "source": [
    "nb.keys()"
   ]
  },
  {
   "cell_type": "code",
   "execution_count": null,
   "metadata": {},
   "outputs": [],
   "source": [
    "nb.metadata"
   ]
  },
  {
   "cell_type": "markdown",
   "metadata": {},
   "source": [
    "This is how we are going to approach the problem. We are going to create ONE GIANT NOTEBOOK\n",
    "and use the PDFExporter to do exporting.\n",
    "\n",
    "God Bless Me as I attempt this..."
   ]
  },
  {
   "cell_type": "code",
   "execution_count": null,
   "metadata": {},
   "outputs": [],
   "source": []
  },
  {
   "cell_type": "code",
   "execution_count": null,
   "metadata": {},
   "outputs": [],
   "source": []
  },
  {
   "cell_type": "code",
   "execution_count": null,
   "metadata": {},
   "outputs": [],
   "source": [
    "def md2nbcell(md):\n",
    "    \"\"\"Convert markdown to Jupyter notebook cell.\"\"\"\n",
    "    data = {\n",
    "        \"cell_type\": \"markdown\",\n",
    "        \"metadata\": {},\n",
    "        \"source\": md\n",
    "    }\n",
    "    cell = nbformat.NotebookNode(**data)\n",
    "    return cell"
   ]
  },
  {
   "cell_type": "code",
   "execution_count": null,
   "metadata": {},
   "outputs": [],
   "source": [
    "def compile_code_cells(accumulated):\n",
    "    cells = []\n",
    "    for title, file in accumulated:\n",
    "        fpath = here() / \"docs\" / file\n",
    "        titlecell = md2nbcell(f\"# {title}\")\n",
    "        cells.append(titlecell)\n",
    "\n",
    "        if file.endswith(\".md\"):\n",
    "            md = read_markdown(fpath)\n",
    "            cell = md2nbcell(md)\n",
    "            cells.append(cell)\n",
    "        elif file.endswith(\".ipynb\"):\n",
    "            nb = read_notebook(fpath)\n",
    "            cells.extend(nb.cells)\n",
    "    return cells"
   ]
  },
  {
   "cell_type": "code",
   "execution_count": null,
   "metadata": {},
   "outputs": [],
   "source": [
    "cells = compile_code_cells(accumulated)"
   ]
  },
  {
   "cell_type": "code",
   "execution_count": null,
   "metadata": {},
   "outputs": [],
   "source": [
    "def make_compiled_notebook(cells):\n",
    "    metadata = {'kernelspec': {'display_name': 'nams', 'language': 'python', 'name': 'nams'},\n",
    " 'language_info': {'codemirror_mode': {'name': 'ipython', 'version': 3},\n",
    "  'file_extension': '.py',\n",
    "  'mimetype': 'text/x-python',\n",
    "  'name': 'python',\n",
    "  'nbconvert_exporter': 'python',\n",
    "  'pygments_lexer': 'ipython3',\n",
    "  'version': '3.7.7'}}\n",
    "    \n",
    "    compiled_nb = nbformat.v4.new_notebook()\n",
    "    compiled_nb.metadata = metadata\n",
    "    compiled_nb.cells = cells\n",
    "    return compiled_nb"
   ]
  },
  {
   "cell_type": "code",
   "execution_count": null,
   "metadata": {},
   "outputs": [],
   "source": [
    "compiled_nb = make_compiled_notebook(cells)"
   ]
  },
  {
   "cell_type": "code",
   "execution_count": null,
   "metadata": {},
   "outputs": [],
   "source": [
    "def to_pdf(nb):\n",
    "    ep = ExecutePreprocessor(timeout=600, kernel_name='nams')\n",
    "    ep.preprocess(nb)\n",
    "    pdf_exporter = PDFExporter()\n",
    "    body, resources = pdf_exporter.from_notebook_node(nb)\n",
    "    return body, resources"
   ]
  },
  {
   "cell_type": "code",
   "execution_count": null,
   "metadata": {},
   "outputs": [],
   "source": [
    "body, resources = to_pdf(compiled_nb)"
   ]
  },
  {
   "cell_type": "code",
   "execution_count": null,
   "metadata": {},
   "outputs": [],
   "source": [
    "def write_pdf(body, fpath):\n",
    "    with open(fpath, \"wb\") as f:\n",
    "        f.write(body)"
   ]
  },
  {
   "cell_type": "code",
   "execution_count": null,
   "metadata": {},
   "outputs": [],
   "source": [
    "write_pdf(body, \"output.pdf\")"
   ]
  },
  {
   "cell_type": "code",
   "execution_count": null,
   "metadata": {},
   "outputs": [],
   "source": []
  }
 ],
 "metadata": {
  "kernelspec": {
   "display_name": "nams",
   "language": "python",
   "name": "nams"
  },
  "language_info": {
   "codemirror_mode": {
    "name": "ipython",
    "version": 3
   },
   "file_extension": ".py",
   "mimetype": "text/x-python",
   "name": "python",
   "nbconvert_exporter": "python",
   "pygments_lexer": "ipython3",
   "version": "3.7.7"
  }
 },
 "nbformat": 4,
 "nbformat_minor": 4
}
