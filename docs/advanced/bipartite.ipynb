{
 "cells": [
  {
   "cell_type": "code",
   "execution_count": null,
   "metadata": {},
   "outputs": [],
   "source": [
    "%load_ext autoreload\n",
    "%autoreload 2\n",
    "%matplotlib inline\n",
    "%config InlineBackend.figure_format = 'retina'"
   ]
  },
  {
   "cell_type": "markdown",
   "metadata": {},
   "source": [
    "## Introduction\n",
    "\n",
    "In this chapter, we will look at bipartite graphs and their applications.\n",
    "\n",
    "## What are bipartite graphs?\n",
    "\n",
    "As the name suggests,\n",
    "bipartite have two (bi) node partitions (partite).\n",
    "In other words, we can assign nodes to one of the two partitions.\n",
    "(By contrast, all of the graphs that we have seen before are _unipartite_:\n",
    "they only have a single partition.)\n",
    "\n",
    "### Rules for bipartite graphs\n",
    "\n",
    "With unipartite graphs, you might remember a few rules that apply.\n",
    "\n",
    "Firstly, nodes and edges belong to a _set_.\n",
    "This means the node set contains only unique members,\n",
    "i.e. no node can be duplicated.\n",
    "The same applies for the edge set.\n",
    "\n",
    "On top of those two basic rules, bipartite graphs add an additional rule:\n",
    "Edges can only occur between nodes of **different** partitions.\n",
    "In other words, nodes within the same partition \n",
    "are not allowed to be connected to one another.\n",
    "\n",
    "### Applications of bipartite graphs\n",
    "\n",
    "Where do we see bipartite graphs being used?\n",
    "Here's one that is very relevant to e-commerce,\n",
    "which touches our daily lives:\n",
    "\n",
    "> We can model customer purchases of products using a bipartite graph.\n",
    "> Here, the two node sets are **customer** nodes and **product** nodes,\n",
    "> and edges indicate that a customer $C$ purchased a product $P$.\n",
    "\n",
    "On the basis of this graph, we can do interesting analyses,\n",
    "such as finding customers that are similar to one another\n",
    "on the basis of their shared product purchases.\n",
    "\n",
    "Can you think of other situations\n",
    "where a bipartite graph model can be useful?\n",
    "\n",
    "## Dataset\n",
    "\n",
    "Here's another application in crime analysis,\n",
    "which is relevant to the example that we will use in this chapter:\n",
    "\n",
    "> This bipartite network contains persons\n",
    "> who appeared in at least one crime case \n",
    "> as either a suspect, a victim, a witness \n",
    "> or both a suspect and victim at the same time. \n",
    "> A left node represents a person and a right node represents a crime. \n",
    "> An edge between two nodes shows that \n",
    "> the left node was involved in the crime \n",
    "> represented by the right node.\n",
    "\n",
    "This crime dataset was also sourced from Konect."
   ]
  },
  {
   "cell_type": "code",
   "execution_count": null,
   "metadata": {},
   "outputs": [],
   "source": [
    "from nams import load_data as cf\n",
    "G = cf.load_crime_network()"
   ]
  },
  {
   "cell_type": "markdown",
   "metadata": {},
   "source": [
    "If you inspect the nodes,\n",
    "you will see that they contain a special metadata keyword: `bipartite`.\n",
    "This is a special keyword that NetworkX can use \n",
    "to identify nodes of a given partition.\n",
    "\n",
    "### Exercise: Extract each node set\n",
    "\n",
    "A useful thing to be able to do\n",
    "is to extract each partition's node set.\n",
    "This will become handy when interacting with\n",
    "NetworkX's bipartite algorithms later on.\n",
    "\n",
    "> Write a function that extracts all of the nodes \n",
    "> from specified node partition.\n",
    "> It should also raise a plain Exception\n",
    "> if no nodes exist in that specified partition.\n",
    "> (as a precuation against users putting in invalid partition names)."
   ]
  },
  {
   "cell_type": "code",
   "execution_count": null,
   "metadata": {},
   "outputs": [],
   "source": [
    "import networkx as nx\n",
    "\n",
    "def extract_partition_nodes(G: nx.Graph, partition: str):\n",
    "    nodeset = [_ for _, _ in _______ if ____________]\n",
    "    if _____________:\n",
    "        raise Exception(f\"No nodes exist in the partition {partition}!\")\n",
    "    return nodeset\n",
    "\n",
    "from nams.solutions.bipartite import extract_partition_nodes\n",
    "# Uncomment the next line to see the answer.\n",
    "# extract_partition_nodes??"
   ]
  },
  {
   "cell_type": "code",
   "execution_count": null,
   "metadata": {},
   "outputs": [],
   "source": []
  }
 ],
 "metadata": {
  "kernelspec": {
   "display_name": "nams",
   "language": "python",
   "name": "nams"
  },
  "language_info": {
   "codemirror_mode": {
    "name": "ipython",
    "version": 3
   },
   "file_extension": ".py",
   "mimetype": "text/x-python",
   "name": "python",
   "nbconvert_exporter": "python",
   "pygments_lexer": "ipython3",
   "version": "3.7.7"
  }
 },
 "nbformat": 4,
 "nbformat_minor": 4
}
